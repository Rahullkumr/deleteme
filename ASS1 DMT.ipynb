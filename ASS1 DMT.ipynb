{
 "cells": [
  {
   "cell_type": "code",
   "execution_count": 4,
   "id": "eb079f3c",
   "metadata": {},
   "outputs": [
    {
     "name": "stdout",
     "output_type": "stream",
     "text": [
      "NumPy version :  1.26.4\n",
      "Build Dependencies:\n",
      "  blas:\n",
      "    detection method: system\n",
      "    found: true\n",
      "    include directory: unknown\n",
      "    lib directory: unknown\n",
      "    name: blas\n",
      "    openblas configuration: unknown\n",
      "    pc file directory: unknown\n",
      "    version: unknown\n",
      "  lapack:\n",
      "    detection method: internal\n",
      "    found: true\n",
      "    include directory: unknown\n",
      "    lib directory: unknown\n",
      "    name: dep140228583157936\n",
      "    openblas configuration: unknown\n",
      "    pc file directory: unknown\n",
      "    version: 1.26.4\n",
      "Compilers:\n",
      "  c:\n",
      "    args: -g, -O2, -fno-omit-frame-pointer, -mno-omit-leaf-frame-pointer, -ffile-prefix-map=/build/numpy-VpSPb5/numpy-1.26.4+ds=.,\n",
      "      -flto=auto, -ffat-lto-objects, -fstack-protector-strong, -fstack-clash-protection,\n",
      "      -Wformat, -Werror=format-security, -fcf-protection, -fdebug-prefix-map=/build/numpy-VpSPb5/numpy-1.26.4+ds=/usr/src/numpy-1:1.26.4+ds-6ubuntu1,\n",
      "      -Wdate-time, -D_FORTIFY_SOURCE=3\n",
      "    commands: cc\n",
      "    linker: ld.bfd\n",
      "    linker args: -Wl,-Bsymbolic-functions, -flto=auto, -ffat-lto-objects, -Wl,-z,relro,\n",
      "      -g, -O2, -fno-omit-frame-pointer, -mno-omit-leaf-frame-pointer, -ffile-prefix-map=/build/numpy-VpSPb5/numpy-1.26.4+ds=.,\n",
      "      -flto=auto, -ffat-lto-objects, -fstack-protector-strong, -fstack-clash-protection,\n",
      "      -Wformat, -Werror=format-security, -fcf-protection, -fdebug-prefix-map=/build/numpy-VpSPb5/numpy-1.26.4+ds=/usr/src/numpy-1:1.26.4+ds-6ubuntu1,\n",
      "      -Wdate-time, -D_FORTIFY_SOURCE=3\n",
      "    name: gcc\n",
      "    version: 13.2.0\n",
      "  c++:\n",
      "    args: -g, -O2, -fno-omit-frame-pointer, -mno-omit-leaf-frame-pointer, -ffile-prefix-map=/build/numpy-VpSPb5/numpy-1.26.4+ds=.,\n",
      "      -flto=auto, -ffat-lto-objects, -fstack-protector-strong, -fstack-clash-protection,\n",
      "      -Wformat, -Werror=format-security, -fcf-protection, -fdebug-prefix-map=/build/numpy-VpSPb5/numpy-1.26.4+ds=/usr/src/numpy-1:1.26.4+ds-6ubuntu1,\n",
      "      -Wdate-time, -D_FORTIFY_SOURCE=3\n",
      "    commands: c++\n",
      "    linker: ld.bfd\n",
      "    linker args: -Wl,-Bsymbolic-functions, -flto=auto, -ffat-lto-objects, -Wl,-z,relro,\n",
      "      -g, -O2, -fno-omit-frame-pointer, -mno-omit-leaf-frame-pointer, -ffile-prefix-map=/build/numpy-VpSPb5/numpy-1.26.4+ds=.,\n",
      "      -flto=auto, -ffat-lto-objects, -fstack-protector-strong, -fstack-clash-protection,\n",
      "      -Wformat, -Werror=format-security, -fcf-protection, -fdebug-prefix-map=/build/numpy-VpSPb5/numpy-1.26.4+ds=/usr/src/numpy-1:1.26.4+ds-6ubuntu1,\n",
      "      -Wdate-time, -D_FORTIFY_SOURCE=3\n",
      "    name: gcc\n",
      "    version: 13.2.0\n",
      "  cython:\n",
      "    commands: cython\n",
      "    linker: cython\n",
      "    name: cython\n",
      "    version: 3.0.8\n",
      "Machine Information:\n",
      "  build:\n",
      "    cpu: x86_64\n",
      "    endian: little\n",
      "    family: x86_64\n",
      "    system: linux\n",
      "  host:\n",
      "    cpu: x86_64\n",
      "    endian: little\n",
      "    family: x86_64\n",
      "    system: linux\n",
      "Python Information:\n",
      "  path: /usr/bin/python3.12\n",
      "  version: '3.12'\n",
      "SIMD Extensions:\n",
      "  baseline:\n",
      "  - SSE\n",
      "  - SSE2\n",
      "  - SSE3\n",
      "  found:\n",
      "  - SSSE3\n",
      "  - SSE41\n",
      "  - POPCNT\n",
      "  - SSE42\n",
      "  - AVX\n",
      "  - F16C\n",
      "  - FMA3\n",
      "  - AVX2\n",
      "  not found:\n",
      "  - AVX512F\n",
      "  - AVX512CD\n",
      "  - AVX512_KNL\n",
      "  - AVX512_KNM\n",
      "  - AVX512_SKX\n",
      "  - AVX512_CLX\n",
      "  - AVX512_CNL\n",
      "  - AVX512_ICL\n",
      "  - AVX512_SPR\n",
      "\n",
      "NumPy buil configuration :  None\n"
     ]
    }
   ],
   "source": [
    "#q1\n",
    "import numpy as np\n",
    "\n",
    "print(\"NumPy version : \",np.__version__)\n",
    "print(\"NumPy buil configuration : \",np.show_config())\n"
   ]
  },
  {
   "cell_type": "code",
   "execution_count": null,
   "id": "4bab5b98",
   "metadata": {},
   "outputs": [],
   "source": []
  },
  {
   "cell_type": "code",
   "execution_count": null,
   "id": "2c3ad1a6",
   "metadata": {},
   "outputs": [],
   "source": []
  },
  {
   "cell_type": "code",
   "execution_count": 5,
   "id": "785196f9",
   "metadata": {},
   "outputs": [
    {
     "name": "stdout",
     "output_type": "stream",
     "text": [
      "Help on ufunc:\n",
      "\n",
      "add = <ufunc 'add'>\n",
      "    add(x1, x2, /, out=None, *, where=True, casting='same_kind', order='K', dtype=None, subok=True[, signature, extobj])\n",
      "\n",
      "    Add arguments element-wise.\n",
      "\n",
      "    Parameters\n",
      "    ----------\n",
      "    x1, x2 : array_like\n",
      "        The arrays to be added.\n",
      "        If ``x1.shape != x2.shape``, they must be broadcastable to a common\n",
      "        shape (which becomes the shape of the output).\n",
      "    out : ndarray, None, or tuple of ndarray and None, optional\n",
      "        A location into which the result is stored. If provided, it must have\n",
      "        a shape that the inputs broadcast to. If not provided or None,\n",
      "        a freshly-allocated array is returned. A tuple (possible only as a\n",
      "        keyword argument) must have length equal to the number of outputs.\n",
      "    where : array_like, optional\n",
      "        This condition is broadcast over the input. At locations where the\n",
      "        condition is True, the `out` array will be set to the ufunc result.\n",
      "        Elsewhere, the `out` array will retain its original value.\n",
      "        Note that if an uninitialized `out` array is created via the default\n",
      "        ``out=None``, locations within it where the condition is False will\n",
      "        remain uninitialized.\n",
      "    **kwargs\n",
      "        For other keyword-only arguments, see the\n",
      "        :ref:`ufunc docs <ufuncs.kwargs>`.\n",
      "\n",
      "    Returns\n",
      "    -------\n",
      "    add : ndarray or scalar\n",
      "        The sum of `x1` and `x2`, element-wise.\n",
      "        This is a scalar if both `x1` and `x2` are scalars.\n",
      "\n",
      "    Notes\n",
      "    -----\n",
      "    Equivalent to `x1` + `x2` in terms of array broadcasting.\n",
      "\n",
      "    Examples\n",
      "    --------\n",
      "    >>> np.add(1.0, 4.0)\n",
      "    5.0\n",
      "    >>> x1 = np.arange(9.0).reshape((3, 3))\n",
      "    >>> x2 = np.arange(3.0)\n",
      "    >>> np.add(x1, x2)\n",
      "    array([[  0.,   2.,   4.],\n",
      "           [  3.,   5.,   7.],\n",
      "           [  6.,   8.,  10.]])\n",
      "\n",
      "    The ``+`` operator can be used as a shorthand for ``np.add`` on ndarrays.\n",
      "\n",
      "    >>> x1 = np.arange(9.0).reshape((3, 3))\n",
      "    >>> x2 = np.arange(3.0)\n",
      "    >>> x1 + x2\n",
      "    array([[ 0.,  2.,  4.],\n",
      "           [ 3.,  5.,  7.],\n",
      "           [ 6.,  8., 10.]])\n",
      "\n"
     ]
    }
   ],
   "source": [
    "#q2\n",
    "import numpy as np\n",
    "\n",
    "help(np.add)"
   ]
  },
  {
   "cell_type": "code",
   "execution_count": null,
   "id": "21b35268",
   "metadata": {},
   "outputs": [],
   "source": []
  },
  {
   "cell_type": "code",
   "execution_count": null,
   "id": "91d61ed6",
   "metadata": {},
   "outputs": [],
   "source": []
  },
  {
   "cell_type": "code",
   "execution_count": 6,
   "id": "0d8bb344",
   "metadata": {},
   "outputs": [
    {
     "name": "stdout",
     "output_type": "stream",
     "text": [
      "None of the elements are zero :  True\n"
     ]
    }
   ],
   "source": [
    "#q3\n",
    "import numpy as np\n",
    "\n",
    "arr = np.array([1, 2, 3, 4])\n",
    "print(\"None of the elements are zero : \",np.all(arr))"
   ]
  },
  {
   "cell_type": "code",
   "execution_count": null,
   "id": "e9d79680",
   "metadata": {},
   "outputs": [],
   "source": [
    "\n"
   ]
  },
  {
   "cell_type": "code",
   "execution_count": null,
   "id": "5f6d4a87",
   "metadata": {},
   "outputs": [],
   "source": []
  },
  {
   "cell_type": "code",
   "execution_count": 8,
   "id": "e11063a3",
   "metadata": {},
   "outputs": [
    {
     "name": "stdout",
     "output_type": "stream",
     "text": [
      "Finiteness of array elemets :  [ True  True False False]\n"
     ]
    }
   ],
   "source": [
    "#q4\n",
    "import numpy as np\n",
    "\n",
    "arr = np.array([1, 0, np.nan, np.inf])\n",
    "print(\"Finiteness of array elemets : \",np.isfinite(arr))"
   ]
  },
  {
   "cell_type": "code",
   "execution_count": null,
   "id": "35c6fef5",
   "metadata": {},
   "outputs": [],
   "source": []
  },
  {
   "cell_type": "code",
   "execution_count": null,
   "id": "3a3139fb",
   "metadata": {},
   "outputs": [],
   "source": []
  },
  {
   "cell_type": "code",
   "execution_count": 9,
   "id": "22ab2089",
   "metadata": {},
   "outputs": [
    {
     "name": "stdout",
     "output_type": "stream",
     "text": [
      "Greater :  [False False  True]\n",
      "Greater equal :  [False  True  True]\n",
      "Less :  [ True False False]\n",
      "Less equal :  [ True  True False]\n"
     ]
    }
   ],
   "source": [
    "#q5\n",
    "import numpy as np\n",
    "\n",
    "arr1 = np.array([1, 2, 3])\n",
    "arr2 = np.array([2, 2, 2])\n",
    "\n",
    "print(\"Greater : \",np.greater(arr1, arr2))\n",
    "print(\"Greater equal : \",np.greater_equal(arr1, arr2))\n",
    "\n",
    "print(\"Less : \",np.less(arr1, arr2))\n",
    "print(\"Less equal : \",np.less_equal(arr1, arr2))"
   ]
  },
  {
   "cell_type": "code",
   "execution_count": null,
   "id": "fb9e4450",
   "metadata": {},
   "outputs": [],
   "source": []
  },
  {
   "cell_type": "code",
   "execution_count": null,
   "id": "3bd13d42",
   "metadata": {},
   "outputs": [],
   "source": []
  },
  {
   "cell_type": "code",
   "execution_count": 10,
   "id": "b231dd84",
   "metadata": {},
   "outputs": [
    {
     "name": "stdout",
     "output_type": "stream",
     "text": [
      "Size of memory occupied :  32  bytes\n"
     ]
    }
   ],
   "source": [
    "#q6\n",
    "import numpy as np\n",
    "\n",
    "arr = np.array([1, 7, 13, 105])\n",
    "print(\"Size of memory occupied : \",arr.nbytes,\" bytes\")"
   ]
  },
  {
   "cell_type": "code",
   "execution_count": null,
   "id": "4510bee6",
   "metadata": {},
   "outputs": [],
   "source": []
  },
  {
   "cell_type": "code",
   "execution_count": null,
   "id": "bed0cdc1",
   "metadata": {},
   "outputs": [],
   "source": []
  },
  {
   "cell_type": "code",
   "execution_count": 11,
   "id": "148674c8",
   "metadata": {},
   "outputs": [
    {
     "name": "stdout",
     "output_type": "stream",
     "text": [
      "[30 32 34 36 38 40 42 44 46 48 50 52 54 56 58 60 62 64 66 68 70]\n"
     ]
    }
   ],
   "source": [
    "#q7\n",
    "import numpy as np\n",
    "\n",
    "arr = np.arange(30, 71, 2)\n",
    "print(arr)"
   ]
  },
  {
   "cell_type": "code",
   "execution_count": null,
   "id": "df4efd3b",
   "metadata": {},
   "outputs": [],
   "source": []
  },
  {
   "cell_type": "code",
   "execution_count": null,
   "id": "c8244e1f",
   "metadata": {},
   "outputs": [],
   "source": []
  },
  {
   "cell_type": "code",
   "execution_count": 13,
   "id": "517cd689",
   "metadata": {},
   "outputs": [
    {
     "name": "stdout",
     "output_type": "stream",
     "text": [
      "indentity matrix : \n",
      " [[1. 0. 0.]\n",
      " [0. 1. 0.]\n",
      " [0. 0. 1.]]\n"
     ]
    }
   ],
   "source": [
    "#q8\n",
    "import numpy as np\n",
    "\n",
    "i = np.eye(3)\n",
    "print(\"indentity matrix : \\n\",i)"
   ]
  },
  {
   "cell_type": "code",
   "execution_count": null,
   "id": "36c62837",
   "metadata": {},
   "outputs": [],
   "source": []
  },
  {
   "cell_type": "code",
   "execution_count": null,
   "id": "427961c3",
   "metadata": {},
   "outputs": [],
   "source": []
  },
  {
   "cell_type": "code",
   "execution_count": 53,
   "id": "addb51b2",
   "metadata": {},
   "outputs": [
    {
     "name": "stdout",
     "output_type": "stream",
     "text": [
      "random number :  0.11853460112932579\n"
     ]
    }
   ],
   "source": [
    "#q9\n",
    "\n",
    "import numpy as np\n",
    "\n",
    "r = np.random.rand()\n",
    "print(\"random number : \",r)"
   ]
  },
  {
   "cell_type": "code",
   "execution_count": null,
   "id": "c6896e6f",
   "metadata": {},
   "outputs": [],
   "source": []
  },
  {
   "cell_type": "code",
   "execution_count": null,
   "id": "893556e3",
   "metadata": {},
   "outputs": [],
   "source": []
  },
  {
   "cell_type": "code",
   "execution_count": 58,
   "id": "14ff8e26",
   "metadata": {},
   "outputs": [
    {
     "name": "stdout",
     "output_type": "stream",
     "text": [
      "random numbers : \n",
      " [ 0.09430295  0.97342339  0.94818811 -1.10986142 -0.14570268 -0.73205238\n",
      " -0.61525736 -0.53633012 -0.03002847  0.61577917  0.25236203 -0.86464687\n",
      " -0.36512231  0.93150548 -0.47278995]\n"
     ]
    }
   ],
   "source": [
    "#q10\n",
    "\n",
    "import numpy as np\n",
    "\n",
    "r = np.random.standard_normal(15)\n",
    "\n",
    "print(\"random numbers : \\n\",r)\n"
   ]
  },
  {
   "cell_type": "code",
   "execution_count": null,
   "id": "a0e498fb",
   "metadata": {},
   "outputs": [],
   "source": []
  },
  {
   "cell_type": "code",
   "execution_count": null,
   "id": "14885732",
   "metadata": {},
   "outputs": [],
   "source": []
  },
  {
   "cell_type": "code",
   "execution_count": 16,
   "id": "b2b5e3ed",
   "metadata": {},
   "outputs": [
    {
     "name": "stdout",
     "output_type": "stream",
     "text": [
      "[16 17 18 19 20 21 22 23 24 25 26 27 28 29 30 31 32 33 34 35 36 37 38 39\n",
      " 40 41 42 43 44 45 46 47 48 49 50 51 52 53 54]\n"
     ]
    }
   ],
   "source": [
    "#q11\n",
    "\n",
    "import numpy as np\n",
    "\n",
    "vector = np.arange(15, 56)\n",
    "print(vector[1 : -1])"
   ]
  },
  {
   "cell_type": "code",
   "execution_count": null,
   "id": "87b46f22",
   "metadata": {},
   "outputs": [],
   "source": []
  },
  {
   "cell_type": "code",
   "execution_count": null,
   "id": "274bd4ca",
   "metadata": {},
   "outputs": [],
   "source": []
  },
  {
   "cell_type": "code",
   "execution_count": 56,
   "id": "80b34210",
   "metadata": {},
   "outputs": [
    {
     "name": "stdout",
     "output_type": "stream",
     "text": [
      "[0 1 2 3]\n",
      "[4 5 6 7]\n",
      "[ 8  9 10 11]\n"
     ]
    }
   ],
   "source": [
    "#12\n",
    "import numpy as np\n",
    "\n",
    "arr = np.arange(12).reshape(3,4)\n",
    "\n",
    "for row in arr:\n",
    "    print(row)"
   ]
  },
  {
   "cell_type": "code",
   "execution_count": null,
   "id": "ac133872",
   "metadata": {},
   "outputs": [],
   "source": []
  },
  {
   "cell_type": "code",
   "execution_count": null,
   "id": "d128dfbb",
   "metadata": {},
   "outputs": [],
   "source": []
  },
  {
   "cell_type": "code",
   "execution_count": 19,
   "id": "870c9548",
   "metadata": {},
   "outputs": [
    {
     "name": "stdout",
     "output_type": "stream",
     "text": [
      "[8 4 7 7 5]\n"
     ]
    }
   ],
   "source": [
    "#13\n",
    "import numpy as np\n",
    "\n",
    "rv = np.random.randint(0, 11, size = 5)\n",
    "print(rv)"
   ]
  },
  {
   "cell_type": "code",
   "execution_count": null,
   "id": "ecd32b84",
   "metadata": {},
   "outputs": [],
   "source": []
  },
  {
   "cell_type": "code",
   "execution_count": null,
   "id": "9fa71db5",
   "metadata": {},
   "outputs": [],
   "source": []
  },
  {
   "cell_type": "code",
   "execution_count": 22,
   "id": "4a8ab883",
   "metadata": {},
   "outputs": [
    {
     "name": "stdout",
     "output_type": "stream",
     "text": [
      "    0\n",
      "0  10\n",
      "1  20\n",
      "2  30\n",
      "3  40\n",
      "4  50\n"
     ]
    }
   ],
   "source": [
    "#14\n",
    "import numpy as np\n",
    "import pandas as pd\n",
    "\n",
    "d1 = np.array([10, 20, 30, 40, 50])\n",
    "df = pd.DataFrame(d1)\n",
    "\n",
    "print(df)"
   ]
  },
  {
   "cell_type": "code",
   "execution_count": null,
   "id": "772898f8",
   "metadata": {},
   "outputs": [],
   "source": []
  },
  {
   "cell_type": "code",
   "execution_count": null,
   "id": "71986d1e",
   "metadata": {},
   "outputs": [],
   "source": []
  },
  {
   "cell_type": "code",
   "execution_count": 33,
   "id": "bcf08cd9",
   "metadata": {},
   "outputs": [
    {
     "name": "stdout",
     "output_type": "stream",
     "text": [
      "\n",
      "day of month : \n",
      " 0    3\n",
      "1    4\n",
      "2    5\n",
      "dtype: int32\n",
      "\n",
      "day of year : \n",
      "\n",
      " 0    247\n",
      "1    248\n",
      "2    249\n",
      "dtype: int32\n",
      "\n",
      "week number : \n",
      "\n",
      " 0    36\n",
      "1    36\n",
      "2    36\n",
      "Name: week, dtype: UInt32\n",
      "\n",
      "day of week : \n",
      "\n",
      " 0      Tuesday\n",
      "1    Wednesday\n",
      "2     Thursday\n",
      "dtype: object\n"
     ]
    }
   ],
   "source": [
    "#15\n",
    "import numpy as np\n",
    "import pandas as pd\n",
    "from datetime import datetime\n",
    "\n",
    "date_series = pd.Series(pd.to_datetime(['2024-9-03', '2024-9-04', '2024-9-05']))\n",
    "\n",
    "print(\"\\nday of month : \\n\",date_series.dt.day)\n",
    "print(\"\\nday of year : \\n\\n\",date_series.dt.dayofyear)\n",
    "print(\"\\nweek number : \\n\\n\",date_series.dt.isocalendar().week)\n",
    "print(\"\\nday of week : \\n\\n\",date_series.dt.day_name())"
   ]
  },
  {
   "cell_type": "code",
   "execution_count": null,
   "id": "72e636c6",
   "metadata": {},
   "outputs": [],
   "source": []
  },
  {
   "cell_type": "code",
   "execution_count": null,
   "id": "2ee369e5",
   "metadata": {},
   "outputs": [],
   "source": []
  },
  {
   "cell_type": "code",
   "execution_count": 36,
   "id": "2864498d",
   "metadata": {},
   "outputs": [
    {
     "name": "stdout",
     "output_type": "stream",
     "text": [
      "0       PhP\n",
      "1    PythoN\n",
      "2      JavA\n",
      "3       DmT\n",
      "dtype: object\n"
     ]
    }
   ],
   "source": [
    "#16\n",
    "\n",
    "import pandas as pd\n",
    "\n",
    "series = pd.Series(['php', 'python','java','dmt'])\n",
    "\n",
    "result = series.map(lambda x : x[0].upper() + x[1:-1] + x[-1].upper())\n",
    "\n",
    "print(result)"
   ]
  },
  {
   "cell_type": "code",
   "execution_count": null,
   "id": "7702fec1",
   "metadata": {},
   "outputs": [],
   "source": []
  },
  {
   "cell_type": "code",
   "execution_count": 39,
   "id": "3dd24c22",
   "metadata": {},
   "outputs": [
    {
     "name": "stdout",
     "output_type": "stream",
     "text": [
      "minimum :  1\n",
      "25th percentile :  3.0\n",
      "median :  5.0\n",
      "75th percentile :  7.0\n",
      "maximum :  9\n"
     ]
    }
   ],
   "source": [
    "#17\n",
    "\n",
    "\n",
    "import pandas as pd\n",
    "\n",
    "s = pd.Series([1, 2, 3, 4, 5, 6, 7, 8, 9])\n",
    "\n",
    "minv = s.min()\n",
    "\n",
    "p_25 = s.quantile(0.25)\n",
    "\n",
    "med = s.median()\n",
    "\n",
    "p_75 = s.quantile(0.75)\n",
    "\n",
    "maxv = s.max()\n",
    "\n",
    "\n",
    "print(\"minimum : \",minv)\n",
    "print(\"25th percentile : \",p_25)\n",
    "print(\"median : \",med)\n",
    "print(\"75th percentile : \",p_75)\n",
    "print(\"maximum : \",maxv)"
   ]
  },
  {
   "cell_type": "code",
   "execution_count": null,
   "id": "afa0d8da",
   "metadata": {},
   "outputs": [],
   "source": []
  },
  {
   "cell_type": "code",
   "execution_count": null,
   "id": "f23575d9",
   "metadata": {},
   "outputs": [],
   "source": []
  },
  {
   "cell_type": "code",
   "execution_count": 50,
   "id": "ba82cfb1",
   "metadata": {},
   "outputs": [
    {
     "name": "stdout",
     "output_type": "stream",
     "text": [
      "mean :  5.0\n",
      "standard deviation :  2.449489742783178\n"
     ]
    }
   ],
   "source": [
    "#18\n",
    "\n",
    "import pandas as pd\n",
    "\n",
    "s = pd.Series([2,3,6,6,8])\n",
    "\n",
    "m = s.mean()\n",
    "sd = s.std()\n",
    "\n",
    "print(\"mean : \",m)\n",
    "print(\"standard deviation : \",sd)"
   ]
  },
  {
   "cell_type": "code",
   "execution_count": null,
   "id": "b66b4a85",
   "metadata": {},
   "outputs": [],
   "source": []
  },
  {
   "cell_type": "code",
   "execution_count": null,
   "id": "3455a5ce",
   "metadata": {},
   "outputs": [],
   "source": []
  },
  {
   "cell_type": "code",
   "execution_count": 47,
   "id": "65d17fc8",
   "metadata": {},
   "outputs": [
    {
     "name": "stdout",
     "output_type": "stream",
     "text": [
      "euclidean distance between two series :  8.660254037844387\n"
     ]
    }
   ],
   "source": [
    "#19\n",
    "import pandas as pd\n",
    "import numpy as np\n",
    "\n",
    "x = pd.Series([1, 2, 3])\n",
    "y = pd.Series([6, 7, 8])\n",
    "\n",
    "print(\"euclidean distance between two series : \",np.linalg.norm(x-y))"
   ]
  },
  {
   "cell_type": "code",
   "execution_count": null,
   "id": "eb245e71",
   "metadata": {},
   "outputs": [],
   "source": []
  },
  {
   "cell_type": "code",
   "execution_count": null,
   "id": "fdd14c99",
   "metadata": {},
   "outputs": [],
   "source": []
  },
  {
   "cell_type": "code",
   "execution_count": 48,
   "id": "3a9a5f98",
   "metadata": {},
   "outputs": [
    {
     "name": "stdout",
     "output_type": "stream",
     "text": [
      "all sundays : \n",
      " 0    2024-01-07\n",
      "1    2024-01-14\n",
      "2    2024-01-21\n",
      "3    2024-01-28\n",
      "4    2024-02-04\n",
      "5    2024-02-11\n",
      "6    2024-02-18\n",
      "7    2024-02-25\n",
      "8    2024-03-03\n",
      "9    2024-03-10\n",
      "10   2024-03-17\n",
      "11   2024-03-24\n",
      "12   2024-03-31\n",
      "13   2024-04-07\n",
      "14   2024-04-14\n",
      "15   2024-04-21\n",
      "16   2024-04-28\n",
      "17   2024-05-05\n",
      "18   2024-05-12\n",
      "19   2024-05-19\n",
      "20   2024-05-26\n",
      "21   2024-06-02\n",
      "22   2024-06-09\n",
      "23   2024-06-16\n",
      "24   2024-06-23\n",
      "25   2024-06-30\n",
      "26   2024-07-07\n",
      "27   2024-07-14\n",
      "28   2024-07-21\n",
      "29   2024-07-28\n",
      "30   2024-08-04\n",
      "31   2024-08-11\n",
      "32   2024-08-18\n",
      "33   2024-08-25\n",
      "34   2024-09-01\n",
      "35   2024-09-08\n",
      "36   2024-09-15\n",
      "37   2024-09-22\n",
      "38   2024-09-29\n",
      "39   2024-10-06\n",
      "40   2024-10-13\n",
      "41   2024-10-20\n",
      "42   2024-10-27\n",
      "43   2024-11-03\n",
      "44   2024-11-10\n",
      "45   2024-11-17\n",
      "46   2024-11-24\n",
      "47   2024-12-01\n",
      "48   2024-12-08\n",
      "49   2024-12-15\n",
      "50   2024-12-22\n",
      "51   2024-12-29\n",
      "dtype: datetime64[ns]\n"
     ]
    }
   ],
   "source": [
    "#20\n",
    "import pandas as pd\n",
    "\n",
    "result = pd.Series(pd.date_range('2024-01-01', periods=52, freq='W-SUN'))\n",
    "print(\"all sundays : \\n\",result)"
   ]
  },
  {
   "cell_type": "code",
   "execution_count": null,
   "id": "a0c2e563",
   "metadata": {},
   "outputs": [],
   "source": []
  }
 ],
 "metadata": {
  "kernelspec": {
   "display_name": "Python 3 (ipykernel)",
   "language": "python",
   "name": "python3"
  },
  "language_info": {
   "codemirror_mode": {
    "name": "ipython",
    "version": 3
   },
   "file_extension": ".py",
   "mimetype": "text/x-python",
   "name": "python",
   "nbconvert_exporter": "python",
   "pygments_lexer": "ipython3",
   "version": "3.12.3"
  }
 },
 "nbformat": 4,
 "nbformat_minor": 5
}
